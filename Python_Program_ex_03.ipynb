{
  "nbformat": 4,
  "nbformat_minor": 0,
  "metadata": {
    "colab": {
      "provenance": []
    },
    "kernelspec": {
      "name": "python3",
      "display_name": "Python 3"
    },
    "language_info": {
      "name": "python"
    }
  },
  "cells": [
    {
      "cell_type": "markdown",
      "source": [
        "Write a program to find a factorial of a number\n"
      ],
      "metadata": {
        "id": "DL26O3BPowLT"
      }
    },
    {
      "cell_type": "code",
      "execution_count": 4,
      "metadata": {
        "colab": {
          "base_uri": "https://localhost:8080/"
        },
        "id": "6GQRoRbjora4",
        "outputId": "0cc81c92-2fab-4418-c1ed-e142c0131ee7"
      },
      "outputs": [
        {
          "output_type": "stream",
          "name": "stdout",
          "text": [
            "a=5\n",
            "The factorial of the given number is = 120\n"
          ]
        }
      ],
      "source": [
        "a= int(input('a='))\n",
        "fac=1\n",
        "for i in range(1,a+1):\n",
        "  fac = fac * i\n",
        "print('The factorial of the given number is =',fac)"
      ]
    },
    {
      "cell_type": "markdown",
      "source": [
        "Pattern 1\n",
        "\n",
        "```\n",
        "# This is formatted as code\n",
        "```\n",
        "\n",
        "\n",
        "\n"
      ],
      "metadata": {
        "id": "slSaJpsfpusj"
      }
    },
    {
      "cell_type": "code",
      "source": [
        "n=int(input('n='))\n",
        "i=1\n",
        "while(i<=n):\n",
        "  j=1\n",
        "  while(j<=i):\n",
        "    print('*',end='')\n",
        "    j=j+1\n",
        "  print()\n",
        "  i=i+1\n"
      ],
      "metadata": {
        "colab": {
          "base_uri": "https://localhost:8080/"
        },
        "id": "wL2JvDezpUZ8",
        "outputId": "34d859dd-18d5-4673-be7f-1cbc94e740aa"
      },
      "execution_count": 12,
      "outputs": [
        {
          "output_type": "stream",
          "name": "stdout",
          "text": [
            "n=5\n",
            "*\n",
            "**\n",
            "***\n",
            "****\n",
            "*****\n"
          ]
        }
      ]
    },
    {
      "cell_type": "markdown",
      "source": [
        "Pattern 2"
      ],
      "metadata": {
        "id": "HQsqlnMXtzIh"
      }
    },
    {
      "cell_type": "code",
      "source": [
        "n=int(input('n='))\n",
        "i=1\n",
        "while(i<=n):\n",
        "  j=1\n",
        "  while(j<=i):\n",
        "    print(j,end='')\n",
        "    j=j+1\n",
        "  print()\n",
        "  i=i+1"
      ],
      "metadata": {
        "colab": {
          "base_uri": "https://localhost:8080/"
        },
        "id": "2_6McOYjuJO5",
        "outputId": "fdb5e852-fa2f-4d39-c982-a7d59bf888f3"
      },
      "execution_count": 14,
      "outputs": [
        {
          "output_type": "stream",
          "name": "stdout",
          "text": [
            "n=5\n",
            "1\n",
            "12\n",
            "123\n",
            "1234\n",
            "12345\n"
          ]
        }
      ]
    },
    {
      "cell_type": "markdown",
      "source": [
        "Pattern 3\n"
      ],
      "metadata": {
        "id": "nDi0SOUvvq54"
      }
    },
    {
      "cell_type": "code",
      "source": [
        "r = int(input(\"n=\"))\n",
        "c = 1\n",
        "for i in range(r+1):\n",
        "\tfor j in range(1,i+1):\n",
        "\t\tprint(c,end=\"\")\n",
        "\t\tc=c+1\n",
        "\tprint()"
      ],
      "metadata": {
        "colab": {
          "base_uri": "https://localhost:8080/"
        },
        "id": "_ZHT3PCiueUX",
        "outputId": "d2d88572-17f8-46a5-cf37-55dd3a982fd1"
      },
      "execution_count": 27,
      "outputs": [
        {
          "output_type": "stream",
          "name": "stdout",
          "text": [
            "n=5\n",
            "\n",
            "1\n",
            "23\n",
            "456\n",
            "78910\n",
            "1112131415\n"
          ]
        }
      ]
    },
    {
      "cell_type": "markdown",
      "source": [
        "Pattern 4"
      ],
      "metadata": {
        "id": "VT-JZZSl3KJC"
      }
    },
    {
      "cell_type": "code",
      "source": [
        "r= int(input('r='))\n",
        "c=1\n",
        "i=1\n",
        "while(i<=r):\n",
        "  j=1\n",
        "  while(j<=i):\n",
        "    print(c,end='')\n",
        "    j=j+1\n",
        "    c=c+1\n",
        "  print()\n",
        "  i=i+1\n"
      ],
      "metadata": {
        "colab": {
          "base_uri": "https://localhost:8080/"
        },
        "id": "snMGdWpGvuxD",
        "outputId": "2def92ea-5048-4bcd-b8e2-fdb7e6674990"
      },
      "execution_count": 32,
      "outputs": [
        {
          "output_type": "stream",
          "name": "stdout",
          "text": [
            "r=5\n",
            "1\n",
            "23\n",
            "456\n",
            "78910\n",
            "1112131415\n"
          ]
        }
      ]
    },
    {
      "cell_type": "markdown",
      "source": [
        "Pattern 5"
      ],
      "metadata": {
        "id": "bzaQ6lfD1qFo"
      }
    },
    {
      "cell_type": "code",
      "source": [
        "n=int(input(\"n\"))\n",
        "i=1\n",
        "k=ord(\"A\")\n",
        "\n",
        "while(i<=5):\n",
        "    j=1\n",
        "    while(j<=i):\n",
        "        print(chr(k),end=\"\")\n",
        "        k=k+1\n",
        "        j=j+1\n",
        "    print()\n",
        "    i=i+1\n"
      ],
      "metadata": {
        "colab": {
          "base_uri": "https://localhost:8080/"
        },
        "id": "CE2GGjbmwhJ3",
        "outputId": "660d8c8e-c04e-45de-edeb-0e4966da7729"
      },
      "execution_count": 43,
      "outputs": [
        {
          "output_type": "stream",
          "name": "stdout",
          "text": [
            "n5\n",
            "A\n",
            "BC\n",
            "DEF\n",
            "GHIJ\n",
            "KLMNO\n"
          ]
        }
      ]
    },
    {
      "cell_type": "markdown",
      "source": [
        "Pattern 6"
      ],
      "metadata": {
        "id": "wUPeigAr3NVu"
      }
    },
    {
      "cell_type": "code",
      "source": [
        "n=int(input(\"n\"))\n",
        "i=1\n",
        "k=ord(\"A\")\n",
        "while(i<=5):\n",
        "    j=1\n",
        "    while(j<=i):\n",
        "        print(chr(k),end=\"\")\n",
        "        j=j+1\n",
        "    print()\n",
        "    i=i+1\n",
        "    k=k+1\n"
      ],
      "metadata": {
        "colab": {
          "base_uri": "https://localhost:8080/"
        },
        "id": "9J-f8uXm12gQ",
        "outputId": "5ff6d667-94a6-4cab-fd56-2ad72a844cf1"
      },
      "execution_count": 44,
      "outputs": [
        {
          "output_type": "stream",
          "name": "stdout",
          "text": [
            "n5\n",
            "A\n",
            "BB\n",
            "CCC\n",
            "DDDD\n",
            "EEEEE\n"
          ]
        }
      ]
    }
  ]
}